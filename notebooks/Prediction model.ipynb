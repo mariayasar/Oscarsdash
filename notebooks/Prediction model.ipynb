{
 "cells": [
  {
   "cell_type": "code",
   "execution_count": 27,
   "metadata": {},
   "outputs": [],
   "source": [
    "import pandas as pd\n",
    "import category_encoders as ce\n",
    "from sklearn.pipeline import make_pipeline\n",
    "from sklearn.ensemble import RandomForestClassifier\n",
    "# read in data:\n",
    "traindata = pd.read_csv('final_train.csv')\n",
    "test= pd.read_csv('final_test.csv')\n",
    "# df = df.drop(columns='Unnamed: 0')\n",
    "# df.reset_index(drop=True)"
   ]
  },
  {
   "cell_type": "code",
   "execution_count": 28,
   "metadata": {},
   "outputs": [],
   "source": [
    "#Separate into train, and val\n",
    "train=traindata[traindata['year']<=2005]\n",
    "val=traindata[traindata['year']>2005]"
   ]
  },
  {
   "cell_type": "code",
   "execution_count": 29,
   "metadata": {},
   "outputs": [
    {
     "data": {
      "text/plain": [
       "((329, 64), (109, 64))"
      ]
     },
     "execution_count": 29,
     "metadata": {},
     "output_type": "execute_result"
    }
   ],
   "source": [
    "train.shape, val.shape"
   ]
  },
  {
   "cell_type": "code",
   "execution_count": 81,
   "metadata": {},
   "outputs": [],
   "source": [
    "#Select target and features \n",
    "target='winner_bool'\n",
    "features=train.columns.drop([target, 'winner', 'nconst_x','nconst_y','award', 'nominee', 'movie', 'year',\n",
    "                             'year_film', 'year_film2', 'year_film3',\n",
    "                              'tconst', 'primarytitle', 'startyear', \n",
    "                            'directors', 'writers', 'director','birthyear', \n",
    "                             'name', 'release_day',\n",
    "                             'biography',\n",
    "                           'drama', 'comedy', 'adventure', 'film-noir', 'mystery', 'action',\n",
    "                           'crime', 'horror', 'family', 'animation', 'western', 'documentary',\n",
    "                           'romance', 'fantasy', 'thriller', 'war', 'history', 'music', 'sport',\n",
    "                           'musical', 'sci-fi', 'cpi_multiplier','opening_usa_day','release_day_of_month',\n",
    "                             'release_month','world','runtimeminutes','budget','gross','n_globes'\n",
    "                            ])\n",
    "\n",
    "X_train=train[features]\n",
    "X_val=val[features]\n",
    "X_test=test[features]\n",
    "\n",
    "y_train=train[target]\n",
    "y_val=val[target]\n"
   ]
  },
  {
   "cell_type": "code",
   "execution_count": null,
   "metadata": {},
   "outputs": [],
   "source": [
    "X_train.columns"
   ]
  },
  {
   "cell_type": "markdown",
   "metadata": {},
   "source": [
    "<h2>Fit a Random Forest model </h2>"
   ]
  },
  {
   "cell_type": "code",
   "execution_count": 27,
   "metadata": {},
   "outputs": [
    {
     "name": "stdout",
     "output_type": "stream",
     "text": [
      "Accuracy score: 0.8623853211009175\n"
     ]
    }
   ],
   "source": [
    "from sklearn.ensemble import RandomForestClassifier\n",
    "import category_encoders as ce\n",
    "from sklearn.pipeline import make_pipeline\n",
    "from sklearn.impute import SimpleImputer\n",
    "\n",
    "\n",
    "mypipeline= make_pipeline(\n",
    "    ce.OrdinalEncoder(),\n",
    "    SimpleImputer(strategy='median'),\n",
    "    RandomForestClassifier(n_jobs=-1, random_state=42, max_depth=20, n_estimators=50)   \n",
    ")\n",
    "    \n",
    "mypipeline.fit(X_train, y_train)\n",
    "print(f'Accuracy score: {mypipeline.score(X_val, y_val)}')\n"
   ]
  },
  {
   "cell_type": "code",
   "execution_count": 28,
   "metadata": {},
   "outputs": [
    {
     "data": {
      "text/plain": [
       "['mypipeline.joblib']"
      ]
     },
     "execution_count": 28,
     "metadata": {},
     "output_type": "execute_result"
    }
   ],
   "source": [
    "from joblib import dump\n",
    "dump(mypipeline, 'mypipeline.joblib')"
   ]
  },
  {
   "cell_type": "code",
   "execution_count": 29,
   "metadata": {},
   "outputs": [
    {
     "data": {
      "text/plain": [
       "array([[0.94, 0.06],\n",
       "       [0.7 , 0.3 ],\n",
       "       [0.9 , 0.1 ],\n",
       "       [0.5 , 0.5 ],\n",
       "       [0.96, 0.04],\n",
       "       [0.94, 0.06],\n",
       "       [0.82, 0.18],\n",
       "       [0.52, 0.48],\n",
       "       [0.78, 0.22]])"
      ]
     },
     "execution_count": 29,
     "metadata": {},
     "output_type": "execute_result"
    }
   ],
   "source": [
    "mypipeline.predict_proba(X_test)"
   ]
  },
  {
   "cell_type": "code",
   "execution_count": 30,
   "metadata": {},
   "outputs": [],
   "source": [
    "def predict(actor_in_a_leading_role_nomination,\n",
    "       actor_in_a_supporting_role_nomination,\n",
    "       actress_in_a_leading_role_nomination,\n",
    "       actress_in_a_supporting_role_nomination, directing_nomination,\n",
    "       cinematography_nomination,  averagerating,\n",
    "       numvotes, dir_age, is_woman, rating, metascore, \n",
    "       opening_wk \n",
    "      ):\n",
    "    df = pd.DataFrame(\n",
    "        columns=['actor_in_a_leading_role_nomination',\n",
    "           'actor_in_a_supporting_role_nomination',\n",
    "           'actress_in_a_leading_role_nomination',\n",
    "           'actress_in_a_supporting_role_nomination', 'directing_nomination',\n",
    "           'cinematography_nomination',  'averagerating',\n",
    "           'numvotes', 'dir_age', 'is_woman', 'rating', 'metascore', \n",
    "           'opening_wk'\n",
    "          ],\n",
    "        data=[[actor_in_a_leading_role_nomination,\n",
    "           actor_in_a_supporting_role_nomination,\n",
    "           actress_in_a_leading_role_nomination,\n",
    "           actress_in_a_supporting_role_nomination, directing_nomination,\n",
    "           cinematography_nomination, averagerating,\n",
    "           numvotes, dir_age, is_woman, rating, metascore,\n",
    "           opening_wk,\n",
    "           ]]\n",
    "    )\n",
    "    y_pred=mypipeline.predict(df)[0]\n",
    "    y_pred_proba=mypipeline.predict_proba(df)[0]\n",
    "    return f'{y_pred_proba*100:.0f}% chance of {y_pred}'\n",
    "   "
   ]
  },
  {
   "cell_type": "code",
   "execution_count": null,
   "metadata": {},
   "outputs": [],
   "source": []
  }
 ],
 "metadata": {
  "kernelspec": {
   "display_name": "Python 3",
   "language": "python",
   "name": "python3"
  },
  "language_info": {
   "codemirror_mode": {
    "name": "ipython",
    "version": 3
   },
   "file_extension": ".py",
   "mimetype": "text/x-python",
   "name": "python",
   "nbconvert_exporter": "python",
   "pygments_lexer": "ipython3",
   "version": "3.7.4"
  }
 },
 "nbformat": 4,
 "nbformat_minor": 4
}
